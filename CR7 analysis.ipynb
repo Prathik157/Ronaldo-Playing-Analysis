{
 "cells": [
  {
   "cell_type": "markdown",
   "id": "fff568e6",
   "metadata": {},
   "source": [
    "# Cristiano Ronaldo Data Analysis"
   ]
  },
  {
   "cell_type": "markdown",
   "id": "5810a1cc",
   "metadata": {},
   "source": [
    "Cristiano Ronaldo dos Santos Aveiro is a Portuguese professional footballer who plays as a forward for Premier League club Manchester United and captains the Portugal national team...\n",
    "\n",
    "Current team: Portugal national football team (#7 / Forward) Trending\n",
    "\n",
    "Born: February 5, 1985 (age 37 years), Hospital Dr. Nélio Mendonça, Funchal, Portugal\n",
    "\n",
    "Height: 1.87 m\n",
    "\n",
    "First team : Andorinha\n",
    "\n",
    "Playing football since 30 years.\n",
    "\n",
    "AChievments : 2X THE BEST FIFA MEN'S PLAYER , 5X WINNER BALLON D'OR , 4X UEFA BEST PLAYER IN EUROPE , 10X FOOTBALLER OF THE YEAR , 1X FIFA PUSKÁS AWARD , 19X TOP GOAL SCORER , 6X PLAYER OF THE YEAR , 2X TM-PLAYER OF THE SEASON , 4X FIFA CLUB WORLD CUP WINNER , 1X EUROPEAN CHAMPION , 5X CHAMPIONS LEAGUE WINNER , 3X ENGLISH CHAMPION , 2X SPANISH CHAMPION , 2X ITALIAN CHAMPION , 3X UEFA SUPERCUP WINNER , 1X WINNER UEFA NATIONS LEAGUE , 1X ENGLISH FA CUP WINNER , 2X SPANISH CUP WINNER , 1X ITALIAN CUP WINNER , 2X ENGLISH LEAGUE CUP WINNER , 2X SPANISH SUPER CUP WINNER , 2X ITALIAN SUPER CUP WINNER , 1X PORTUGUESE SUPER CUP WINNER , 2X ENGLISH SUPER CUP WINNER."
   ]
  },
  {
   "cell_type": "code",
   "execution_count": 1,
   "id": "4d5a5f83",
   "metadata": {},
   "outputs": [],
   "source": [
    "import pandas as pd\n",
    "import numpy as np\n",
    "import seaborn as sns\n",
    "import matplotlib.pyplot as plt\n",
    "%matplotlib inline"
   ]
  },
  {
   "cell_type": "code",
   "execution_count": 2,
   "id": "134e9665",
   "metadata": {},
   "outputs": [],
   "source": [
    "import os\n",
    "os.chdir(r'C:\\Users\\aprat\\OneDrive\\Desktop\\EDA')"
   ]
  },
  {
   "cell_type": "code",
   "execution_count": 3,
   "id": "3b4c2e5e",
   "metadata": {},
   "outputs": [],
   "source": [
    "df=pd.read_csv('data.csv')"
   ]
  },
  {
   "cell_type": "code",
   "execution_count": 112,
   "id": "a4af9a18",
   "metadata": {},
   "outputs": [
    {
     "data": {
      "text/html": [
       "<div>\n",
       "<style scoped>\n",
       "    .dataframe tbody tr th:only-of-type {\n",
       "        vertical-align: middle;\n",
       "    }\n",
       "\n",
       "    .dataframe tbody tr th {\n",
       "        vertical-align: top;\n",
       "    }\n",
       "\n",
       "    .dataframe thead th {\n",
       "        text-align: right;\n",
       "    }\n",
       "</style>\n",
       "<table border=\"1\" class=\"dataframe\">\n",
       "  <thead>\n",
       "    <tr style=\"text-align: right;\">\n",
       "      <th></th>\n",
       "      <th>Season</th>\n",
       "      <th>Competition</th>\n",
       "      <th>Matchday</th>\n",
       "      <th>Date</th>\n",
       "      <th>Venue</th>\n",
       "      <th>Club</th>\n",
       "      <th>Opponent</th>\n",
       "      <th>Result</th>\n",
       "      <th>Playing_Position</th>\n",
       "      <th>Minute</th>\n",
       "      <th>At_score</th>\n",
       "      <th>Type</th>\n",
       "      <th>Goal_assist</th>\n",
       "    </tr>\n",
       "  </thead>\n",
       "  <tbody>\n",
       "    <tr>\n",
       "      <th>0</th>\n",
       "      <td>02/03</td>\n",
       "      <td>Liga Portugal</td>\n",
       "      <td>6</td>\n",
       "      <td>10-07-02</td>\n",
       "      <td>H</td>\n",
       "      <td>Sporting CP</td>\n",
       "      <td>Moreirense FC</td>\n",
       "      <td>3:00</td>\n",
       "      <td>LW</td>\n",
       "      <td>34</td>\n",
       "      <td>2:00</td>\n",
       "      <td>Solo run</td>\n",
       "      <td>NaN</td>\n",
       "    </tr>\n",
       "    <tr>\n",
       "      <th>1</th>\n",
       "      <td>02/03</td>\n",
       "      <td>Liga Portugal</td>\n",
       "      <td>6</td>\n",
       "      <td>10-07-02</td>\n",
       "      <td>H</td>\n",
       "      <td>Sporting CP</td>\n",
       "      <td>Moreirense FC</td>\n",
       "      <td>3:00</td>\n",
       "      <td>LW</td>\n",
       "      <td>90+5</td>\n",
       "      <td>3:00</td>\n",
       "      <td>Header</td>\n",
       "      <td>Rui Jorge</td>\n",
       "    </tr>\n",
       "    <tr>\n",
       "      <th>2</th>\n",
       "      <td>02/03</td>\n",
       "      <td>Liga Portugal</td>\n",
       "      <td>8</td>\n",
       "      <td>10/26/02</td>\n",
       "      <td>A</td>\n",
       "      <td>Sporting CP</td>\n",
       "      <td>Boavista FC</td>\n",
       "      <td>1:02</td>\n",
       "      <td>NaN</td>\n",
       "      <td>88</td>\n",
       "      <td>1:02</td>\n",
       "      <td>Right-footed shot</td>\n",
       "      <td>Carlos Martins</td>\n",
       "    </tr>\n",
       "    <tr>\n",
       "      <th>3</th>\n",
       "      <td>02/03</td>\n",
       "      <td>Taca de Portugal Placard</td>\n",
       "      <td>Fourth Round</td>\n",
       "      <td>11/24/02</td>\n",
       "      <td>H</td>\n",
       "      <td>Sporting CP</td>\n",
       "      <td>CD Estarreja</td>\n",
       "      <td>4:01</td>\n",
       "      <td>NaN</td>\n",
       "      <td>67</td>\n",
       "      <td>3:00</td>\n",
       "      <td>Left-footed shot</td>\n",
       "      <td>Cesar Prates</td>\n",
       "    </tr>\n",
       "    <tr>\n",
       "      <th>4</th>\n",
       "      <td>02/03</td>\n",
       "      <td>Taca de Portugal Placard</td>\n",
       "      <td>Fifth Round</td>\n",
       "      <td>12/18/02</td>\n",
       "      <td>H</td>\n",
       "      <td>Sporting CP</td>\n",
       "      <td>FC Oliveira do Hospital</td>\n",
       "      <td>8:01</td>\n",
       "      <td>NaN</td>\n",
       "      <td>13</td>\n",
       "      <td>3:00</td>\n",
       "      <td>NaN</td>\n",
       "      <td>NaN</td>\n",
       "    </tr>\n",
       "  </tbody>\n",
       "</table>\n",
       "</div>"
      ],
      "text/plain": [
       "  Season               Competition      Matchday      Date Venue         Club  \\\n",
       "0  02/03             Liga Portugal             6  10-07-02     H  Sporting CP   \n",
       "1  02/03             Liga Portugal             6  10-07-02     H  Sporting CP   \n",
       "2  02/03             Liga Portugal             8  10/26/02     A  Sporting CP   \n",
       "3  02/03  Taca de Portugal Placard  Fourth Round  11/24/02     H  Sporting CP   \n",
       "4  02/03  Taca de Portugal Placard   Fifth Round  12/18/02     H  Sporting CP   \n",
       "\n",
       "                  Opponent Result Playing_Position Minute At_score  \\\n",
       "0            Moreirense FC   3:00               LW     34     2:00   \n",
       "1            Moreirense FC   3:00               LW   90+5     3:00   \n",
       "2              Boavista FC   1:02              NaN     88     1:02   \n",
       "3             CD Estarreja   4:01              NaN     67     3:00   \n",
       "4  FC Oliveira do Hospital   8:01              NaN     13     3:00   \n",
       "\n",
       "                Type     Goal_assist  \n",
       "0           Solo run             NaN  \n",
       "1             Header       Rui Jorge  \n",
       "2  Right-footed shot  Carlos Martins  \n",
       "3   Left-footed shot    Cesar Prates  \n",
       "4                NaN             NaN  "
      ]
     },
     "execution_count": 112,
     "metadata": {},
     "output_type": "execute_result"
    }
   ],
   "source": [
    "df.head()"
   ]
  },
  {
   "cell_type": "code",
   "execution_count": 5,
   "id": "3a450622",
   "metadata": {},
   "outputs": [
    {
     "data": {
      "text/plain": [
       "(701, 13)"
      ]
     },
     "execution_count": 5,
     "metadata": {},
     "output_type": "execute_result"
    }
   ],
   "source": [
    "df.shape"
   ]
  },
  {
   "cell_type": "code",
   "execution_count": 7,
   "id": "2a2d2fce",
   "metadata": {},
   "outputs": [
    {
     "name": "stdout",
     "output_type": "stream",
     "text": [
      "<class 'pandas.core.frame.DataFrame'>\n",
      "RangeIndex: 701 entries, 0 to 700\n",
      "Data columns (total 13 columns):\n",
      " #   Column            Non-Null Count  Dtype \n",
      "---  ------            --------------  ----- \n",
      " 0   Season            701 non-null    object\n",
      " 1   Competition       701 non-null    object\n",
      " 2   Matchday          701 non-null    object\n",
      " 3   Date              701 non-null    object\n",
      " 4   Venue             701 non-null    object\n",
      " 5   Club              701 non-null    object\n",
      " 6   Opponent          701 non-null    object\n",
      " 7   Result            701 non-null    object\n",
      " 8   Playing_Position  643 non-null    object\n",
      " 9   Minute            701 non-null    object\n",
      " 10  At_score          701 non-null    object\n",
      " 11  Type              686 non-null    object\n",
      " 12  Goal_assist       459 non-null    object\n",
      "dtypes: object(13)\n",
      "memory usage: 71.3+ KB\n"
     ]
    }
   ],
   "source": [
    "df.info()"
   ]
  },
  {
   "cell_type": "code",
   "execution_count": 8,
   "id": "36dffeb9",
   "metadata": {},
   "outputs": [
    {
     "data": {
      "text/html": [
       "<div>\n",
       "<style scoped>\n",
       "    .dataframe tbody tr th:only-of-type {\n",
       "        vertical-align: middle;\n",
       "    }\n",
       "\n",
       "    .dataframe tbody tr th {\n",
       "        vertical-align: top;\n",
       "    }\n",
       "\n",
       "    .dataframe thead th {\n",
       "        text-align: right;\n",
       "    }\n",
       "</style>\n",
       "<table border=\"1\" class=\"dataframe\">\n",
       "  <thead>\n",
       "    <tr style=\"text-align: right;\">\n",
       "      <th></th>\n",
       "      <th>Season</th>\n",
       "      <th>Competition</th>\n",
       "      <th>Matchday</th>\n",
       "      <th>Date</th>\n",
       "      <th>Venue</th>\n",
       "      <th>Club</th>\n",
       "      <th>Opponent</th>\n",
       "      <th>Result</th>\n",
       "      <th>Playing_Position</th>\n",
       "      <th>Minute</th>\n",
       "      <th>At_score</th>\n",
       "      <th>Type</th>\n",
       "      <th>Goal_assist</th>\n",
       "    </tr>\n",
       "  </thead>\n",
       "  <tbody>\n",
       "    <tr>\n",
       "      <th>count</th>\n",
       "      <td>701</td>\n",
       "      <td>701</td>\n",
       "      <td>701</td>\n",
       "      <td>701</td>\n",
       "      <td>701</td>\n",
       "      <td>701</td>\n",
       "      <td>701</td>\n",
       "      <td>701</td>\n",
       "      <td>643</td>\n",
       "      <td>701</td>\n",
       "      <td>701</td>\n",
       "      <td>686</td>\n",
       "      <td>459</td>\n",
       "    </tr>\n",
       "    <tr>\n",
       "      <th>unique</th>\n",
       "      <td>21</td>\n",
       "      <td>16</td>\n",
       "      <td>52</td>\n",
       "      <td>464</td>\n",
       "      <td>2</td>\n",
       "      <td>4</td>\n",
       "      <td>125</td>\n",
       "      <td>53</td>\n",
       "      <td>5</td>\n",
       "      <td>106</td>\n",
       "      <td>37</td>\n",
       "      <td>11</td>\n",
       "      <td>86</td>\n",
       "    </tr>\n",
       "    <tr>\n",
       "      <th>top</th>\n",
       "      <td>14/15</td>\n",
       "      <td>LaLiga</td>\n",
       "      <td>Group Stage</td>\n",
       "      <td>09-12-15</td>\n",
       "      <td>H</td>\n",
       "      <td>Real Madrid</td>\n",
       "      <td>Sevilla FC</td>\n",
       "      <td>3:00</td>\n",
       "      <td>LW</td>\n",
       "      <td>90</td>\n",
       "      <td>1:00</td>\n",
       "      <td>Right-footed shot</td>\n",
       "      <td>Karim Benzema</td>\n",
       "    </tr>\n",
       "    <tr>\n",
       "      <th>freq</th>\n",
       "      <td>61</td>\n",
       "      <td>311</td>\n",
       "      <td>75</td>\n",
       "      <td>5</td>\n",
       "      <td>403</td>\n",
       "      <td>450</td>\n",
       "      <td>27</td>\n",
       "      <td>49</td>\n",
       "      <td>356</td>\n",
       "      <td>17</td>\n",
       "      <td>111</td>\n",
       "      <td>251</td>\n",
       "      <td>44</td>\n",
       "    </tr>\n",
       "  </tbody>\n",
       "</table>\n",
       "</div>"
      ],
      "text/plain": [
       "       Season Competition     Matchday      Date Venue         Club  \\\n",
       "count     701         701          701       701   701          701   \n",
       "unique     21          16           52       464     2            4   \n",
       "top     14/15      LaLiga  Group Stage  09-12-15     H  Real Madrid   \n",
       "freq       61         311           75         5   403          450   \n",
       "\n",
       "          Opponent Result Playing_Position Minute At_score               Type  \\\n",
       "count          701    701              643    701      701                686   \n",
       "unique         125     53                5    106       37                 11   \n",
       "top     Sevilla FC   3:00               LW     90     1:00  Right-footed shot   \n",
       "freq            27     49              356     17      111                251   \n",
       "\n",
       "          Goal_assist  \n",
       "count             459  \n",
       "unique             86  \n",
       "top     Karim Benzema  \n",
       "freq               44  "
      ]
     },
     "execution_count": 8,
     "metadata": {},
     "output_type": "execute_result"
    }
   ],
   "source": [
    "df.describe()"
   ]
  },
  {
   "cell_type": "code",
   "execution_count": 10,
   "id": "3d7f1f4f",
   "metadata": {},
   "outputs": [
    {
     "data": {
      "text/plain": [
       "Season                0\n",
       "Competition           0\n",
       "Matchday              0\n",
       "Date                  0\n",
       "Venue                 0\n",
       "Club                  0\n",
       "Opponent              0\n",
       "Result                0\n",
       "Playing_Position     58\n",
       "Minute                0\n",
       "At_score              0\n",
       "Type                 15\n",
       "Goal_assist         242\n",
       "dtype: int64"
      ]
     },
     "execution_count": 10,
     "metadata": {},
     "output_type": "execute_result"
    }
   ],
   "source": [
    "df.isnull().sum()"
   ]
  },
  {
   "cell_type": "code",
   "execution_count": 28,
   "id": "ef135d2b",
   "metadata": {},
   "outputs": [
    {
     "data": {
      "text/plain": [
       "LaLiga                              311\n",
       "UEFA Champions League               140\n",
       "Premier League                      103\n",
       "Serie A                              81\n",
       "Copa del Rey                         22\n",
       "FA Cup                               13\n",
       "FIFA Club World Cup                   7\n",
       "EFL Cup                               4\n",
       "Supercopa                             4\n",
       "Italy Cup                             4\n",
       "Liga Portugal                         3\n",
       "Taca de Portugal Placard              2\n",
       "UEFA Super Cup                        2\n",
       "Supercoppa Italiana                   2\n",
       "Europa League                         2\n",
       "UEFA Champions League Qualifying      1\n",
       "Name: Competition, dtype: int64"
      ]
     },
     "execution_count": 28,
     "metadata": {},
     "output_type": "execute_result"
    }
   ],
   "source": [
    "df['Competition'].value_counts()"
   ]
  },
  {
   "cell_type": "markdown",
   "id": "c5d5bfa8",
   "metadata": {},
   "source": [
    "# Observation :\n",
    "    * Most goals by Ronaldo were scored in LaLiga competition only."
   ]
  },
  {
   "cell_type": "code",
   "execution_count": 58,
   "id": "c50b8ad7",
   "metadata": {},
   "outputs": [
    {
     "data": {
      "text/plain": [
       "([<matplotlib.patches.Wedge at 0x21312bf9310>,\n",
       "  <matplotlib.patches.Wedge at 0x21312bf9a30>,\n",
       "  <matplotlib.patches.Wedge at 0x21312c03190>,\n",
       "  <matplotlib.patches.Wedge at 0x21312c038b0>,\n",
       "  <matplotlib.patches.Wedge at 0x21312c03fd0>],\n",
       " [Text(0.09194075624108876, 1.0961509464219865, 'LaLiga'),\n",
       "  Text(-0.9642412145560573, -0.5293759346168465, 'UEFA Champions League'),\n",
       "  Text(0.10241953970634503, -1.0952215473986715, 'Premier League'),\n",
       "  Text(0.909285790045168, -0.6190309782409399, 'Serie A'),\n",
       "  Text(1.0939189901559585, -0.11550429851814326, 'Copa del Rey')],\n",
       " [Text(0.050149503404230224, 0.5979005162301744, '47.34%'),\n",
       "  Text(-0.525949753394213, -0.2887505097910072, '21.31%'),\n",
       "  Text(0.05586520347618819, -0.5973935713083662, '15.68%'),\n",
       "  Text(0.49597406729736426, -0.33765326085869446, '12.33%'),\n",
       "  Text(0.5966830855396136, -0.06300234464625995, '3.35%')])"
      ]
     },
     "execution_count": 58,
     "metadata": {},
     "output_type": "execute_result"
    },
    {
     "data": {
      "image/png": "[encoded data removed]",
      "text/plain": [
       "<Figure size 640x480 with 1 Axes>"
      ]
     },
     "metadata": {},
     "output_type": "display_data"
    }
   ],
   "source": [
    "lbl=df['Competition'].value_counts()\n",
    "lab=df['Competition'].value_counts().index\n",
    "plt.pie(lbl[:5],autopct='%1.2f%%',labels=lab[:5])"
   ]
  },
  {
   "cell_type": "markdown",
   "id": "db78c2eb",
   "metadata": {},
   "source": [
    "Aprroximately 48 % goals are scored in LaLiga Competition."
   ]
  },
  {
   "cell_type": "code",
   "execution_count": 55,
   "id": "c511c37e",
   "metadata": {
    "scrolled": false
   },
   "outputs": [
    {
     "data": {
      "text/plain": [
       "([<matplotlib.patches.Wedge at 0x21312d11ee0>,\n",
       "  <matplotlib.patches.Wedge at 0x21312d0e640>,\n",
       "  <matplotlib.patches.Wedge at 0x21312d0ed60>,\n",
       "  <matplotlib.patches.Wedge at 0x21312ce04c0>,\n",
       "  <matplotlib.patches.Wedge at 0x21312ce0be0>],\n",
       " [Text(0.814099621047814, 0.7397579381188186, 'Sevilla FC'),\n",
       "  Text(-0.6095647276580708, 0.915658693397896, 'Atletico de Madrid'),\n",
       "  Text(-1.0414217568837343, -0.35417612043896524, 'Getafe CF'),\n",
       "  Text(-0.07506668820635835, -1.0974356438177728, 'Celta de Vigo'),\n",
       "  Text(0.9398613391846526, -0.5715423546037786, 'FC Barcelona')],\n",
       " [Text(0.44405433875335304, 0.40350432988299195, '23.48%'),\n",
       "  Text(-0.33248985144985677, 0.4994501963988523, '21.74%'),\n",
       "  Text(-0.5680482310274914, -0.1931869747848901, '20.00%'),\n",
       "  Text(-0.04094546629437728, -0.5986012602642397, '17.39%'),\n",
       "  Text(0.512651639555265, -0.31175037523842464, '17.39%')])"
      ]
     },
     "execution_count": 55,
     "metadata": {},
     "output_type": "execute_result"
    },
    {
     "data": {
      "image/png": "[encoded data removed]",
      "text/plain": [
       "<Figure size 640x480 with 1 Axes>"
      ]
     },
     "metadata": {},
     "output_type": "display_data"
    }
   ],
   "source": [
    "lbl_1=df['Opponent'].value_counts().index\n",
    "plt.pie(df['Opponent'].value_counts().values[:5],labels=lbl_1[:5],autopct='%1.2f%%')"
   ]
  },
  {
   "cell_type": "markdown",
   "id": "6991b339",
   "metadata": {},
   "source": [
    "More number of goals are scored against Servilla FC and Atletico de Madrid"
   ]
  },
  {
   "cell_type": "code",
   "execution_count": 71,
   "id": "245ff4ea",
   "metadata": {},
   "outputs": [
    {
     "data": {
      "text/plain": [
       "<matplotlib.legend.Legend at 0x21314322370>"
      ]
     },
     "execution_count": 71,
     "metadata": {},
     "output_type": "execute_result"
    },
    {
     "data": {
      "image/png": "[encoded data removed]",
      "text/plain": [
       "<Figure size 640x480 with 1 Axes>"
      ]
     },
     "metadata": {},
     "output_type": "display_data"
    }
   ],
   "source": [
    "sns.countplot(x=df['Venue'],hue=df['Type'])\n",
    "plt.legend(loc='upper right')"
   ]
  },
  {
   "cell_type": "markdown",
   "id": "cbb27a10",
   "metadata": {},
   "source": [
    "Both at home and away matches, he scored most of the goals through right footed shot "
   ]
  },
  {
   "cell_type": "code",
   "execution_count": 72,
   "id": "7cc55c27",
   "metadata": {},
   "outputs": [
    {
     "data": {
      "text/plain": [
       "H    403\n",
       "A    298\n",
       "Name: Venue, dtype: int64"
      ]
     },
     "execution_count": 72,
     "metadata": {},
     "output_type": "execute_result"
    }
   ],
   "source": [
    "df['Venue'].value_counts()"
   ]
  },
  {
   "cell_type": "markdown",
   "id": "f1d239c8",
   "metadata": {},
   "source": [
    "Majority of his goals were scored at home venue"
   ]
  },
  {
   "cell_type": "code",
   "execution_count": 73,
   "id": "e4184160",
   "metadata": {},
   "outputs": [
    {
     "data": {
      "text/plain": [
       "14/15     61\n",
       "11/12     60\n",
       "Dec-13    55\n",
       "10/11     53\n",
       "13/14     51\n",
       "15/16     51\n",
       "17/18     44\n",
       "07/08     42\n",
       "16/17     42\n",
       "19/20     37\n",
       "20/21     36\n",
       "09/10     33\n",
       "18/19     28\n",
       "08/09     26\n",
       "21/22     24\n",
       "06/07     23\n",
       "05/06     12\n",
       "04/05      9\n",
       "03/04      6\n",
       "02/03      5\n",
       "22/23      3\n",
       "Name: Season, dtype: int64"
      ]
     },
     "execution_count": 73,
     "metadata": {},
     "output_type": "execute_result"
    }
   ],
   "source": [
    "df['Season'].value_counts()"
   ]
  },
  {
   "cell_type": "markdown",
   "id": "98e66dd5",
   "metadata": {},
   "source": [
    "Max number of goals were scored in 14/15 season"
   ]
  },
  {
   "cell_type": "code",
   "execution_count": 88,
   "id": "93165fde",
   "metadata": {},
   "outputs": [
    {
     "data": {
      "text/plain": [
       "Real Madrid          450\n",
       "Manchester United    145\n",
       "Juventus FC          101\n",
       "Sporting CP            5\n",
       "Name: Club, dtype: int64"
      ]
     },
     "execution_count": 88,
     "metadata": {},
     "output_type": "execute_result"
    }
   ],
   "source": [
    "df['Club'].value_counts()"
   ]
  },
  {
   "cell_type": "code",
   "execution_count": 97,
   "id": "353ac612",
   "metadata": {},
   "outputs": [
    {
     "data": {
      "text/plain": [
       "<AxesSubplot:xlabel='Club', ylabel='count'>"
      ]
     },
     "execution_count": 97,
     "metadata": {},
     "output_type": "execute_result"
    },
    {
     "data": {
      "image/png": "[encoded data removed]",
      "text/plain": [
       "<Figure size 640x480 with 1 Axes>"
      ]
     },
     "metadata": {},
     "output_type": "display_data"
    }
   ],
   "source": [
    "sns.countplot(x=df['Club'])"
   ]
  },
  {
   "cell_type": "markdown",
   "id": "f347c26b",
   "metadata": {},
   "source": [
    "65% of goals were scored when he was in Real Madrid club."
   ]
  },
  {
   "cell_type": "code",
   "execution_count": 103,
   "id": "814f270a",
   "metadata": {},
   "outputs": [
    {
     "data": {
      "text/plain": [
       "3:00    49\n",
       "2:01    41\n",
       "1:02    37\n",
       "4:00    36\n",
       "0:02    36\n",
       "Name: Result, dtype: int64"
      ]
     },
     "execution_count": 103,
     "metadata": {},
     "output_type": "execute_result"
    }
   ],
   "source": [
    "df['Result'].value_counts().head(5)"
   ]
  },
  {
   "cell_type": "code",
   "execution_count": 107,
   "id": "7ad04a46",
   "metadata": {},
   "outputs": [
    {
     "data": {
      "text/plain": [
       "([<matplotlib.patches.Wedge at 0x21315df6550>,\n",
       "  <matplotlib.patches.Wedge at 0x21315df6c70>,\n",
       "  <matplotlib.patches.Wedge at 0x21315e043d0>,\n",
       "  <matplotlib.patches.Wedge at 0x21315e04af0>,\n",
       "  <matplotlib.patches.Wedge at 0x21315e10250>],\n",
       " [Text(0.8942866165172956, 0.8733564263907649, '3:00'),\n",
       "  Text(-0.6423417978168897, 0.8929708924580724, '2:01'),\n",
       "  Text(-1.0558859738640332, -0.3083906778701369, '1:02'),\n",
       "  Text(-0.14716500940918276, -1.0901112145123522, '4:00'),\n",
       "  Text(0.9270820246993814, -0.5920463828783145, '0:02')],\n",
       " [Text(0.5365719699103773, 0.5240138558344589, '24.62%'),\n",
       "  Text(-0.3503682533546671, 0.4870750322498576, '20.60%'),\n",
       "  Text(-0.5759378039258362, -0.16821309702007464, '18.59%'),\n",
       "  Text(-0.08027182331409967, -0.5946061170067375, '18.09%'),\n",
       "  Text(0.5056811043814807, -0.3229343906608988, '18.09%')])"
      ]
     },
     "execution_count": 107,
     "metadata": {},
     "output_type": "execute_result"
    },
    {
     "data": {
      "image/png": "[encoded data removed]",
      "text/plain": [
       "<Figure size 640x480 with 1 Axes>"
      ]
     },
     "metadata": {},
     "output_type": "display_data"
    }
   ],
   "source": [
    "lbl_2=df['Result'].value_counts().index\n",
    "plt.pie(df['Result'].value_counts().values[:5],explode=(0.15,0,0,0,0),autopct='%1.2f%%',labels=lbl_2[:5])"
   ]
  },
  {
   "cell_type": "markdown",
   "id": "5f5b8eff",
   "metadata": {},
   "source": [
    "* 49 times(24.62%) whenever Ronaldo scored a goal or more, team ended with finishing 3-0 in the match.\n",
    "* Second priority - 41 times(20.6%) whenever Ronaldo scored one or more,  team ended with finishing 2-1 in the match."
   ]
  },
  {
   "cell_type": "code",
   "execution_count": 109,
   "id": "186853a9",
   "metadata": {},
   "outputs": [
    {
     "data": {
      "text/plain": [
       "90      17\n",
       "45      15\n",
       "89      15\n",
       "76      14\n",
       "70      14\n",
       "        ..\n",
       "105      1\n",
       "109      1\n",
       "90+7     1\n",
       "45+7     1\n",
       "45+2     1\n",
       "Name: Minute, Length: 106, dtype: int64"
      ]
     },
     "execution_count": 109,
     "metadata": {},
     "output_type": "execute_result"
    }
   ],
   "source": [
    "df['Minute'].value_counts()"
   ]
  },
  {
   "cell_type": "markdown",
   "id": "b86d0044",
   "metadata": {},
   "source": [
    "Most goals have come at crucial time i.e 90 min"
   ]
  },
  {
   "cell_type": "code",
   "execution_count": 114,
   "id": "f6bb7630",
   "metadata": {},
   "outputs": [
    {
     "data": {
      "text/plain": [
       "Karim Benzema       44\n",
       "Gareth Bale         29\n",
       "Mesut Ozil          26\n",
       "Marcelo             23\n",
       "Angel Di Maria      22\n",
       "                    ..\n",
       "Leonardo Bonucci     1\n",
       "Sergio Canales       1\n",
       "Emre Can             1\n",
       "Borja Mayoral        1\n",
       "Rui Jorge            1\n",
       "Name: Goal_assist, Length: 86, dtype: int64"
      ]
     },
     "execution_count": 114,
     "metadata": {},
     "output_type": "execute_result"
    }
   ],
   "source": [
    "df['Goal_assist'].value_counts()"
   ]
  },
  {
   "cell_type": "markdown",
   "id": "c363df98",
   "metadata": {},
   "source": [
    "Most assist is given by Karim Benzema, i.e - 44 assists"
   ]
  },
  {
   "cell_type": "code",
   "execution_count": 116,
   "id": "d7c391ba",
   "metadata": {},
   "outputs": [
    {
     "data": {
      "text/plain": [
       "LW     356\n",
       "CF     200\n",
       "RW      79\n",
       "LW       5\n",
       "CF       3\n",
       "Name: Playing_Position, dtype: int64"
      ]
     },
     "execution_count": 116,
     "metadata": {},
     "output_type": "execute_result"
    }
   ],
   "source": [
    "df['Playing_Position'].value_counts()"
   ]
  },
  {
   "cell_type": "markdown",
   "id": "43948f56",
   "metadata": {},
   "source": [
    "51% of the goals(356 goals) have come when Ronaldo plays as Left winger."
   ]
  },
  {
   "cell_type": "code",
   "execution_count": 127,
   "id": "9c714143",
   "metadata": {},
   "outputs": [
    {
     "data": {
      "text/plain": [
       "1:00    111\n",
       "0:01     94\n",
       "2:00     74\n",
       "1:01     52\n",
       "0:02     48\n",
       "Name: At_score, dtype: int64"
      ]
     },
     "execution_count": 127,
     "metadata": {},
     "output_type": "execute_result"
    }
   ],
   "source": [
    "df['At_score'].value_counts().head(5)"
   ]
  },
  {
   "cell_type": "markdown",
   "id": "ae8287f4",
   "metadata": {},
   "source": [
    "Ronaldo scores a goal mostly when the team is leading in the match by 1-0."
   ]
  }
 ],
 "metadata": {
  "kernelspec": {
   "display_name": "Python 3 (ipykernel)",
   "language": "python",
   "name": "python3"
  },
  "language_info": {
   "codemirror_mode": {
    "name": "ipython",
    "version": 3
   },
   "file_extension": ".py",
   "mimetype": "text/x-python",
   "name": "python",
   "nbconvert_exporter": "python",
   "pygments_lexer": "ipython3",
   "version": "3.9.13"
  }
 },
 "nbformat": 4,
 "nbformat_minor": 5
}
